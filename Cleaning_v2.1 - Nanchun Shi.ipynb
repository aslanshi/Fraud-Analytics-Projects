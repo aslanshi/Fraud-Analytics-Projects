{
 "cells": [
  {
   "cell_type": "code",
   "execution_count": 1,
   "metadata": {},
   "outputs": [],
   "source": [
    "import numpy as np\n",
    "import pandas as pd\n",
    "import matplotlib.pyplot as plt\n",
    "import seaborn as sns\n",
    "import calendar\n",
    "start_time = pd.datetime.now()"
   ]
  },
  {
   "cell_type": "code",
   "execution_count": 2,
   "metadata": {},
   "outputs": [],
   "source": [
    "df = pd.read_excel('card transactions.xlsx')"
   ]
  },
  {
   "cell_type": "markdown",
   "metadata": {},
   "source": [
    "## I. Data Preprocessing"
   ]
  },
  {
   "cell_type": "code",
   "execution_count": 3,
   "metadata": {},
   "outputs": [
    {
     "data": {
      "text/plain": [
       "(96753, 10)"
      ]
     },
     "execution_count": 3,
     "metadata": {},
     "output_type": "execute_result"
    }
   ],
   "source": [
    "df.shape"
   ]
  },
  {
   "cell_type": "code",
   "execution_count": 4,
   "metadata": {},
   "outputs": [
    {
     "data": {
      "text/html": [
       "<div>\n",
       "<style scoped>\n",
       "    .dataframe tbody tr th:only-of-type {\n",
       "        vertical-align: middle;\n",
       "    }\n",
       "\n",
       "    .dataframe tbody tr th {\n",
       "        vertical-align: top;\n",
       "    }\n",
       "\n",
       "    .dataframe thead th {\n",
       "        text-align: right;\n",
       "    }\n",
       "</style>\n",
       "<table border=\"1\" class=\"dataframe\">\n",
       "  <thead>\n",
       "    <tr style=\"text-align: right;\">\n",
       "      <th></th>\n",
       "      <th>Recnum</th>\n",
       "      <th>Cardnum</th>\n",
       "      <th>Date</th>\n",
       "      <th>Merchnum</th>\n",
       "      <th>Merch description</th>\n",
       "      <th>Merch state</th>\n",
       "      <th>Merch zip</th>\n",
       "      <th>Transtype</th>\n",
       "      <th>Amount</th>\n",
       "      <th>Fraud</th>\n",
       "    </tr>\n",
       "  </thead>\n",
       "  <tbody>\n",
       "    <tr>\n",
       "      <td>0</td>\n",
       "      <td>1</td>\n",
       "      <td>5142190439</td>\n",
       "      <td>2010-01-01</td>\n",
       "      <td>5509006296254</td>\n",
       "      <td>FEDEX SHP 12/23/09 AB#</td>\n",
       "      <td>TN</td>\n",
       "      <td>38118.0</td>\n",
       "      <td>P</td>\n",
       "      <td>3.62</td>\n",
       "      <td>0</td>\n",
       "    </tr>\n",
       "    <tr>\n",
       "      <td>1</td>\n",
       "      <td>2</td>\n",
       "      <td>5142183973</td>\n",
       "      <td>2010-01-01</td>\n",
       "      <td>61003026333</td>\n",
       "      <td>SERVICE MERCHANDISE #81</td>\n",
       "      <td>MA</td>\n",
       "      <td>1803.0</td>\n",
       "      <td>P</td>\n",
       "      <td>31.42</td>\n",
       "      <td>0</td>\n",
       "    </tr>\n",
       "    <tr>\n",
       "      <td>2</td>\n",
       "      <td>3</td>\n",
       "      <td>5142131721</td>\n",
       "      <td>2010-01-01</td>\n",
       "      <td>4503082993600</td>\n",
       "      <td>OFFICE DEPOT #191</td>\n",
       "      <td>MD</td>\n",
       "      <td>20706.0</td>\n",
       "      <td>P</td>\n",
       "      <td>178.49</td>\n",
       "      <td>0</td>\n",
       "    </tr>\n",
       "    <tr>\n",
       "      <td>3</td>\n",
       "      <td>4</td>\n",
       "      <td>5142148452</td>\n",
       "      <td>2010-01-01</td>\n",
       "      <td>5509006296254</td>\n",
       "      <td>FEDEX SHP 12/28/09 AB#</td>\n",
       "      <td>TN</td>\n",
       "      <td>38118.0</td>\n",
       "      <td>P</td>\n",
       "      <td>3.62</td>\n",
       "      <td>0</td>\n",
       "    </tr>\n",
       "    <tr>\n",
       "      <td>4</td>\n",
       "      <td>5</td>\n",
       "      <td>5142190439</td>\n",
       "      <td>2010-01-01</td>\n",
       "      <td>5509006296254</td>\n",
       "      <td>FEDEX SHP 12/23/09 AB#</td>\n",
       "      <td>TN</td>\n",
       "      <td>38118.0</td>\n",
       "      <td>P</td>\n",
       "      <td>3.62</td>\n",
       "      <td>0</td>\n",
       "    </tr>\n",
       "  </tbody>\n",
       "</table>\n",
       "</div>"
      ],
      "text/plain": [
       "   Recnum     Cardnum       Date       Merchnum        Merch description  \\\n",
       "0       1  5142190439 2010-01-01  5509006296254   FEDEX SHP 12/23/09 AB#   \n",
       "1       2  5142183973 2010-01-01    61003026333  SERVICE MERCHANDISE #81   \n",
       "2       3  5142131721 2010-01-01  4503082993600        OFFICE DEPOT #191   \n",
       "3       4  5142148452 2010-01-01  5509006296254   FEDEX SHP 12/28/09 AB#   \n",
       "4       5  5142190439 2010-01-01  5509006296254   FEDEX SHP 12/23/09 AB#   \n",
       "\n",
       "  Merch state  Merch zip Transtype  Amount  Fraud  \n",
       "0          TN    38118.0         P    3.62      0  \n",
       "1          MA     1803.0         P   31.42      0  \n",
       "2          MD    20706.0         P  178.49      0  \n",
       "3          TN    38118.0         P    3.62      0  \n",
       "4          TN    38118.0         P    3.62      0  "
      ]
     },
     "execution_count": 4,
     "metadata": {},
     "output_type": "execute_result"
    }
   ],
   "source": [
    "df.head()"
   ]
  },
  {
   "cell_type": "code",
   "execution_count": 5,
   "metadata": {
    "scrolled": true
   },
   "outputs": [
    {
     "data": {
      "text/plain": [
       "Recnum                        int64\n",
       "Cardnum                       int64\n",
       "Date                 datetime64[ns]\n",
       "Merchnum                     object\n",
       "Merch description            object\n",
       "Merch state                  object\n",
       "Merch zip                   float64\n",
       "Transtype                    object\n",
       "Amount                      float64\n",
       "Fraud                         int64\n",
       "dtype: object"
      ]
     },
     "execution_count": 5,
     "metadata": {},
     "output_type": "execute_result"
    }
   ],
   "source": [
    "df.dtypes"
   ]
  },
  {
   "cell_type": "code",
   "execution_count": 6,
   "metadata": {},
   "outputs": [
    {
     "name": "stderr",
     "output_type": "stream",
     "text": [
      "/Users/aslanshi/opt/anaconda3/lib/python3.7/site-packages/pandas/core/ops/__init__.py:1115: FutureWarning: elementwise comparison failed; returning scalar instead, but in the future will perform elementwise comparison\n",
      "  result = method(y)\n"
     ]
    },
    {
     "data": {
      "text/html": [
       "<div>\n",
       "<style scoped>\n",
       "    .dataframe tbody tr th:only-of-type {\n",
       "        vertical-align: middle;\n",
       "    }\n",
       "\n",
       "    .dataframe tbody tr th {\n",
       "        vertical-align: top;\n",
       "    }\n",
       "\n",
       "    .dataframe thead th {\n",
       "        text-align: right;\n",
       "    }\n",
       "</style>\n",
       "<table border=\"1\" class=\"dataframe\">\n",
       "  <thead>\n",
       "    <tr style=\"text-align: right;\">\n",
       "      <th></th>\n",
       "      <th># of null</th>\n",
       "      <th># of zeros</th>\n",
       "    </tr>\n",
       "  </thead>\n",
       "  <tbody>\n",
       "    <tr>\n",
       "      <td>Recnum</td>\n",
       "      <td>0</td>\n",
       "      <td>0</td>\n",
       "    </tr>\n",
       "    <tr>\n",
       "      <td>Cardnum</td>\n",
       "      <td>0</td>\n",
       "      <td>0</td>\n",
       "    </tr>\n",
       "    <tr>\n",
       "      <td>Date</td>\n",
       "      <td>0</td>\n",
       "      <td>0</td>\n",
       "    </tr>\n",
       "    <tr>\n",
       "      <td>Merchnum</td>\n",
       "      <td>3375</td>\n",
       "      <td>231</td>\n",
       "    </tr>\n",
       "    <tr>\n",
       "      <td>Merch description</td>\n",
       "      <td>0</td>\n",
       "      <td>0</td>\n",
       "    </tr>\n",
       "    <tr>\n",
       "      <td>Merch state</td>\n",
       "      <td>1195</td>\n",
       "      <td>0</td>\n",
       "    </tr>\n",
       "    <tr>\n",
       "      <td>Merch zip</td>\n",
       "      <td>4656</td>\n",
       "      <td>0</td>\n",
       "    </tr>\n",
       "    <tr>\n",
       "      <td>Transtype</td>\n",
       "      <td>0</td>\n",
       "      <td>0</td>\n",
       "    </tr>\n",
       "    <tr>\n",
       "      <td>Amount</td>\n",
       "      <td>0</td>\n",
       "      <td>0</td>\n",
       "    </tr>\n",
       "    <tr>\n",
       "      <td>Fraud</td>\n",
       "      <td>0</td>\n",
       "      <td>95694</td>\n",
       "    </tr>\n",
       "  </tbody>\n",
       "</table>\n",
       "</div>"
      ],
      "text/plain": [
       "                   # of null  # of zeros\n",
       "Recnum                     0           0\n",
       "Cardnum                    0           0\n",
       "Date                       0           0\n",
       "Merchnum                3375         231\n",
       "Merch description          0           0\n",
       "Merch state             1195           0\n",
       "Merch zip               4656           0\n",
       "Transtype                  0           0\n",
       "Amount                     0           0\n",
       "Fraud                      0       95694"
      ]
     },
     "execution_count": 6,
     "metadata": {},
     "output_type": "execute_result"
    }
   ],
   "source": [
    "## display null values and zeros; note there are different dtypes\n",
    "## Don't worry about the warning, it's just a disagreement b/w numpy and native python\n",
    "\n",
    "pd.DataFrame(dict(zip(['# of null', '# of zeros'], [df.isna().sum(), ((df == 0) | (df == '0')).sum()])))"
   ]
  },
  {
   "cell_type": "markdown",
   "metadata": {},
   "source": [
    "According to the domain expert (aka our professor), for creating Benford's Law variables, we could ignore missing entries and zero entries in the two entity groups, which are \"Merchnum\" and \"Cardnum\". Also, transactions made in \"FedEx\" could also be ignored. Lastly for the entire project, we'll only focus on purchasing type \"P\" and exclude on outlier that have unresonable amount. So I will do some preprocessing here."
   ]
  },
  {
   "cell_type": "markdown",
   "metadata": {},
   "source": [
    "#### 1. Transaction type & outlier"
   ]
  },
  {
   "cell_type": "code",
   "execution_count": 7,
   "metadata": {},
   "outputs": [
    {
     "data": {
      "text/html": [
       "<div>\n",
       "<style scoped>\n",
       "    .dataframe tbody tr th:only-of-type {\n",
       "        vertical-align: middle;\n",
       "    }\n",
       "\n",
       "    .dataframe tbody tr th {\n",
       "        vertical-align: top;\n",
       "    }\n",
       "\n",
       "    .dataframe thead th {\n",
       "        text-align: right;\n",
       "    }\n",
       "</style>\n",
       "<table border=\"1\" class=\"dataframe\">\n",
       "  <thead>\n",
       "    <tr style=\"text-align: right;\">\n",
       "      <th></th>\n",
       "      <th>Transtype</th>\n",
       "    </tr>\n",
       "  </thead>\n",
       "  <tbody>\n",
       "    <tr>\n",
       "      <td>P</td>\n",
       "      <td>96398</td>\n",
       "    </tr>\n",
       "    <tr>\n",
       "      <td>A</td>\n",
       "      <td>181</td>\n",
       "    </tr>\n",
       "    <tr>\n",
       "      <td>D</td>\n",
       "      <td>173</td>\n",
       "    </tr>\n",
       "    <tr>\n",
       "      <td>Y</td>\n",
       "      <td>1</td>\n",
       "    </tr>\n",
       "  </tbody>\n",
       "</table>\n",
       "</div>"
      ],
      "text/plain": [
       "   Transtype\n",
       "P      96398\n",
       "A        181\n",
       "D        173\n",
       "Y          1"
      ]
     },
     "execution_count": 7,
     "metadata": {},
     "output_type": "execute_result"
    }
   ],
   "source": [
    "df.Transtype.value_counts().to_frame()"
   ]
  },
  {
   "cell_type": "code",
   "execution_count": 8,
   "metadata": {},
   "outputs": [],
   "source": [
    "df = df[df.Transtype == 'P']"
   ]
  },
  {
   "cell_type": "code",
   "execution_count": 9,
   "metadata": {},
   "outputs": [
    {
     "data": {
      "text/html": [
       "<div>\n",
       "<style scoped>\n",
       "    .dataframe tbody tr th:only-of-type {\n",
       "        vertical-align: middle;\n",
       "    }\n",
       "\n",
       "    .dataframe tbody tr th {\n",
       "        vertical-align: top;\n",
       "    }\n",
       "\n",
       "    .dataframe thead th {\n",
       "        text-align: right;\n",
       "    }\n",
       "</style>\n",
       "<table border=\"1\" class=\"dataframe\">\n",
       "  <thead>\n",
       "    <tr style=\"text-align: right;\">\n",
       "      <th></th>\n",
       "      <th>Recnum</th>\n",
       "      <th>Cardnum</th>\n",
       "      <th>Date</th>\n",
       "      <th>Merchnum</th>\n",
       "      <th>Merch description</th>\n",
       "      <th>Merch state</th>\n",
       "      <th>Merch zip</th>\n",
       "      <th>Transtype</th>\n",
       "      <th>Amount</th>\n",
       "      <th>Fraud</th>\n",
       "    </tr>\n",
       "  </thead>\n",
       "  <tbody>\n",
       "    <tr>\n",
       "      <td>52714</td>\n",
       "      <td>52715</td>\n",
       "      <td>5142189135</td>\n",
       "      <td>2010-07-13</td>\n",
       "      <td>NaN</td>\n",
       "      <td>INTERMEXICO</td>\n",
       "      <td>NaN</td>\n",
       "      <td>NaN</td>\n",
       "      <td>P</td>\n",
       "      <td>3102045.53</td>\n",
       "      <td>0</td>\n",
       "    </tr>\n",
       "    <tr>\n",
       "      <td>47339</td>\n",
       "      <td>47340</td>\n",
       "      <td>5142275225</td>\n",
       "      <td>2010-06-22</td>\n",
       "      <td>NaN</td>\n",
       "      <td>INTERSOL</td>\n",
       "      <td>NaN</td>\n",
       "      <td>NaN</td>\n",
       "      <td>P</td>\n",
       "      <td>47900.00</td>\n",
       "      <td>0</td>\n",
       "    </tr>\n",
       "    <tr>\n",
       "      <td>59516</td>\n",
       "      <td>59517</td>\n",
       "      <td>5142138135</td>\n",
       "      <td>2010-08-03</td>\n",
       "      <td>900009045549</td>\n",
       "      <td>KRACKELER SCIENTIFIC</td>\n",
       "      <td>NY</td>\n",
       "      <td>12202.0</td>\n",
       "      <td>P</td>\n",
       "      <td>30372.46</td>\n",
       "      <td>1</td>\n",
       "    </tr>\n",
       "    <tr>\n",
       "      <td>80886</td>\n",
       "      <td>80887</td>\n",
       "      <td>5142152857</td>\n",
       "      <td>2010-10-11</td>\n",
       "      <td>NaN</td>\n",
       "      <td>CANYON ELECTRIC</td>\n",
       "      <td>NV</td>\n",
       "      <td>89102.0</td>\n",
       "      <td>P</td>\n",
       "      <td>28392.84</td>\n",
       "      <td>1</td>\n",
       "    </tr>\n",
       "    <tr>\n",
       "      <td>89673</td>\n",
       "      <td>89674</td>\n",
       "      <td>5142183210</td>\n",
       "      <td>2010-11-29</td>\n",
       "      <td>NaN</td>\n",
       "      <td>CRUCIAL TECH./MICRON</td>\n",
       "      <td>ID</td>\n",
       "      <td>83642.0</td>\n",
       "      <td>P</td>\n",
       "      <td>27218.00</td>\n",
       "      <td>0</td>\n",
       "    </tr>\n",
       "  </tbody>\n",
       "</table>\n",
       "</div>"
      ],
      "text/plain": [
       "       Recnum     Cardnum       Date      Merchnum     Merch description  \\\n",
       "52714   52715  5142189135 2010-07-13           NaN           INTERMEXICO   \n",
       "47339   47340  5142275225 2010-06-22           NaN              INTERSOL   \n",
       "59516   59517  5142138135 2010-08-03  900009045549  KRACKELER SCIENTIFIC   \n",
       "80886   80887  5142152857 2010-10-11           NaN       CANYON ELECTRIC   \n",
       "89673   89674  5142183210 2010-11-29           NaN  CRUCIAL TECH./MICRON   \n",
       "\n",
       "      Merch state  Merch zip Transtype      Amount  Fraud  \n",
       "52714         NaN        NaN         P  3102045.53      0  \n",
       "47339         NaN        NaN         P    47900.00      0  \n",
       "59516          NY    12202.0         P    30372.46      1  \n",
       "80886          NV    89102.0         P    28392.84      1  \n",
       "89673          ID    83642.0         P    27218.00      0  "
      ]
     },
     "execution_count": 9,
     "metadata": {},
     "output_type": "execute_result"
    }
   ],
   "source": [
    "df.sort_values('Amount', ascending = False).head()"
   ]
  },
  {
   "cell_type": "code",
   "execution_count": 10,
   "metadata": {},
   "outputs": [],
   "source": [
    "df = df[df.Amount < 3102045.53]"
   ]
  },
  {
   "cell_type": "code",
   "execution_count": 11,
   "metadata": {},
   "outputs": [
    {
     "data": {
      "text/plain": [
       "(96397, 10)"
      ]
     },
     "execution_count": 11,
     "metadata": {},
     "output_type": "execute_result"
    }
   ],
   "source": [
    "df.shape"
   ]
  },
  {
   "cell_type": "markdown",
   "metadata": {},
   "source": [
    "## II. Risk Table Variables"
   ]
  },
  {
   "cell_type": "code",
   "execution_count": 12,
   "metadata": {},
   "outputs": [
    {
     "data": {
      "text/plain": [
       "dtype('<M8[ns]')"
      ]
     },
     "execution_count": 12,
     "metadata": {},
     "output_type": "execute_result"
    }
   ],
   "source": [
    "## to be safe, check the data type of dates first\n",
    "\n",
    "df.Date.dtypes\n",
    "\n",
    "## good"
   ]
  },
  {
   "cell_type": "code",
   "execution_count": 13,
   "metadata": {},
   "outputs": [],
   "source": [
    "## find the day of the week\n",
    "\n",
    "df['Dow'] = df.Date.apply(lambda x: calendar.day_name[x.weekday()])"
   ]
  },
  {
   "cell_type": "code",
   "execution_count": 14,
   "metadata": {},
   "outputs": [],
   "source": [
    "## we only want to use data except oot\n",
    "\n",
    "train_test = df[df.Date < '2016-11-01']\n",
    "\n",
    "c = 4; nmid = 20; y_avg = train_test['Fraud'].mean()\n",
    "y_dow = train_test.groupby('Dow')['Fraud'].mean()\n",
    "num = train_test.groupby('Dow').size()\n",
    "y_dow_smooth = y_avg + (y_dow - y_avg)/(1 + np.exp(-(num - nmid)/c))\n",
    "df['Dow_Risk'] = df.Dow.map(y_dow_smooth)"
   ]
  },
  {
   "cell_type": "code",
   "execution_count": 15,
   "metadata": {},
   "outputs": [
    {
     "data": {
      "text/html": [
       "<div>\n",
       "<style scoped>\n",
       "    .dataframe tbody tr th:only-of-type {\n",
       "        vertical-align: middle;\n",
       "    }\n",
       "\n",
       "    .dataframe tbody tr th {\n",
       "        vertical-align: top;\n",
       "    }\n",
       "\n",
       "    .dataframe thead th {\n",
       "        text-align: right;\n",
       "    }\n",
       "</style>\n",
       "<table border=\"1\" class=\"dataframe\">\n",
       "  <thead>\n",
       "    <tr style=\"text-align: right;\">\n",
       "      <th></th>\n",
       "      <th>Recnum</th>\n",
       "      <th>Cardnum</th>\n",
       "      <th>Date</th>\n",
       "      <th>Merchnum</th>\n",
       "      <th>Merch description</th>\n",
       "      <th>Merch state</th>\n",
       "      <th>Merch zip</th>\n",
       "      <th>Transtype</th>\n",
       "      <th>Amount</th>\n",
       "      <th>Fraud</th>\n",
       "      <th>Dow</th>\n",
       "      <th>Dow_Risk</th>\n",
       "    </tr>\n",
       "  </thead>\n",
       "  <tbody>\n",
       "    <tr>\n",
       "      <td>0</td>\n",
       "      <td>1</td>\n",
       "      <td>5142190439</td>\n",
       "      <td>2010-01-01</td>\n",
       "      <td>5509006296254</td>\n",
       "      <td>FEDEX SHP 12/23/09 AB#</td>\n",
       "      <td>TN</td>\n",
       "      <td>38118.0</td>\n",
       "      <td>P</td>\n",
       "      <td>3.62</td>\n",
       "      <td>0</td>\n",
       "      <td>Friday</td>\n",
       "      <td>0.022419</td>\n",
       "    </tr>\n",
       "    <tr>\n",
       "      <td>1</td>\n",
       "      <td>2</td>\n",
       "      <td>5142183973</td>\n",
       "      <td>2010-01-01</td>\n",
       "      <td>61003026333</td>\n",
       "      <td>SERVICE MERCHANDISE #81</td>\n",
       "      <td>MA</td>\n",
       "      <td>1803.0</td>\n",
       "      <td>P</td>\n",
       "      <td>31.42</td>\n",
       "      <td>0</td>\n",
       "      <td>Friday</td>\n",
       "      <td>0.022419</td>\n",
       "    </tr>\n",
       "    <tr>\n",
       "      <td>2</td>\n",
       "      <td>3</td>\n",
       "      <td>5142131721</td>\n",
       "      <td>2010-01-01</td>\n",
       "      <td>4503082993600</td>\n",
       "      <td>OFFICE DEPOT #191</td>\n",
       "      <td>MD</td>\n",
       "      <td>20706.0</td>\n",
       "      <td>P</td>\n",
       "      <td>178.49</td>\n",
       "      <td>0</td>\n",
       "      <td>Friday</td>\n",
       "      <td>0.022419</td>\n",
       "    </tr>\n",
       "    <tr>\n",
       "      <td>3</td>\n",
       "      <td>4</td>\n",
       "      <td>5142148452</td>\n",
       "      <td>2010-01-01</td>\n",
       "      <td>5509006296254</td>\n",
       "      <td>FEDEX SHP 12/28/09 AB#</td>\n",
       "      <td>TN</td>\n",
       "      <td>38118.0</td>\n",
       "      <td>P</td>\n",
       "      <td>3.62</td>\n",
       "      <td>0</td>\n",
       "      <td>Friday</td>\n",
       "      <td>0.022419</td>\n",
       "    </tr>\n",
       "    <tr>\n",
       "      <td>4</td>\n",
       "      <td>5</td>\n",
       "      <td>5142190439</td>\n",
       "      <td>2010-01-01</td>\n",
       "      <td>5509006296254</td>\n",
       "      <td>FEDEX SHP 12/23/09 AB#</td>\n",
       "      <td>TN</td>\n",
       "      <td>38118.0</td>\n",
       "      <td>P</td>\n",
       "      <td>3.62</td>\n",
       "      <td>0</td>\n",
       "      <td>Friday</td>\n",
       "      <td>0.022419</td>\n",
       "    </tr>\n",
       "  </tbody>\n",
       "</table>\n",
       "</div>"
      ],
      "text/plain": [
       "   Recnum     Cardnum       Date       Merchnum        Merch description  \\\n",
       "0       1  5142190439 2010-01-01  5509006296254   FEDEX SHP 12/23/09 AB#   \n",
       "1       2  5142183973 2010-01-01    61003026333  SERVICE MERCHANDISE #81   \n",
       "2       3  5142131721 2010-01-01  4503082993600        OFFICE DEPOT #191   \n",
       "3       4  5142148452 2010-01-01  5509006296254   FEDEX SHP 12/28/09 AB#   \n",
       "4       5  5142190439 2010-01-01  5509006296254   FEDEX SHP 12/23/09 AB#   \n",
       "\n",
       "  Merch state  Merch zip Transtype  Amount  Fraud     Dow  Dow_Risk  \n",
       "0          TN    38118.0         P    3.62      0  Friday  0.022419  \n",
       "1          MA     1803.0         P   31.42      0  Friday  0.022419  \n",
       "2          MD    20706.0         P  178.49      0  Friday  0.022419  \n",
       "3          TN    38118.0         P    3.62      0  Friday  0.022419  \n",
       "4          TN    38118.0         P    3.62      0  Friday  0.022419  "
      ]
     },
     "execution_count": 15,
     "metadata": {},
     "output_type": "execute_result"
    }
   ],
   "source": [
    "df.head()"
   ]
  },
  {
   "cell_type": "code",
   "execution_count": 16,
   "metadata": {},
   "outputs": [
    {
     "data": {
      "text/html": [
       "<div>\n",
       "<style scoped>\n",
       "    .dataframe tbody tr th:only-of-type {\n",
       "        vertical-align: middle;\n",
       "    }\n",
       "\n",
       "    .dataframe tbody tr th {\n",
       "        vertical-align: top;\n",
       "    }\n",
       "\n",
       "    .dataframe thead th {\n",
       "        text-align: right;\n",
       "    }\n",
       "</style>\n",
       "<table border=\"1\" class=\"dataframe\">\n",
       "  <thead>\n",
       "    <tr style=\"text-align: right;\">\n",
       "      <th></th>\n",
       "      <th>Dow</th>\n",
       "      <th>Risk</th>\n",
       "    </tr>\n",
       "  </thead>\n",
       "  <tbody>\n",
       "    <tr>\n",
       "      <td>0</td>\n",
       "      <td>Friday</td>\n",
       "      <td>0.022419</td>\n",
       "    </tr>\n",
       "    <tr>\n",
       "      <td>1</td>\n",
       "      <td>Monday</td>\n",
       "      <td>0.008749</td>\n",
       "    </tr>\n",
       "    <tr>\n",
       "      <td>2</td>\n",
       "      <td>Saturday</td>\n",
       "      <td>0.010810</td>\n",
       "    </tr>\n",
       "    <tr>\n",
       "      <td>3</td>\n",
       "      <td>Sunday</td>\n",
       "      <td>0.010444</td>\n",
       "    </tr>\n",
       "    <tr>\n",
       "      <td>4</td>\n",
       "      <td>Thursday</td>\n",
       "      <td>0.018797</td>\n",
       "    </tr>\n",
       "    <tr>\n",
       "      <td>5</td>\n",
       "      <td>Tuesday</td>\n",
       "      <td>0.007964</td>\n",
       "    </tr>\n",
       "    <tr>\n",
       "      <td>6</td>\n",
       "      <td>Wednesday</td>\n",
       "      <td>0.009530</td>\n",
       "    </tr>\n",
       "  </tbody>\n",
       "</table>\n",
       "</div>"
      ],
      "text/plain": [
       "         Dow      Risk\n",
       "0     Friday  0.022419\n",
       "1     Monday  0.008749\n",
       "2   Saturday  0.010810\n",
       "3     Sunday  0.010444\n",
       "4   Thursday  0.018797\n",
       "5    Tuesday  0.007964\n",
       "6  Wednesday  0.009530"
      ]
     },
     "execution_count": 16,
     "metadata": {},
     "output_type": "execute_result"
    }
   ],
   "source": [
    "## risk table\n",
    "\n",
    "y_dow_smooth.reset_index(name = 'Risk')"
   ]
  },
  {
   "cell_type": "markdown",
   "metadata": {},
   "source": [
    "## III. Filling in Missing Values"
   ]
  },
  {
   "cell_type": "markdown",
   "metadata": {},
   "source": [
    "Before building other varibles, I need to deal with missing values."
   ]
  },
  {
   "cell_type": "code",
   "execution_count": 17,
   "metadata": {},
   "outputs": [
    {
     "data": {
      "text/html": [
       "<div>\n",
       "<style scoped>\n",
       "    .dataframe tbody tr th:only-of-type {\n",
       "        vertical-align: middle;\n",
       "    }\n",
       "\n",
       "    .dataframe tbody tr th {\n",
       "        vertical-align: top;\n",
       "    }\n",
       "\n",
       "    .dataframe thead th {\n",
       "        text-align: right;\n",
       "    }\n",
       "</style>\n",
       "<table border=\"1\" class=\"dataframe\">\n",
       "  <thead>\n",
       "    <tr style=\"text-align: right;\">\n",
       "      <th></th>\n",
       "      <th># of null</th>\n",
       "      <th># of zeros</th>\n",
       "    </tr>\n",
       "  </thead>\n",
       "  <tbody>\n",
       "    <tr>\n",
       "      <td>Recnum</td>\n",
       "      <td>0</td>\n",
       "      <td>0</td>\n",
       "    </tr>\n",
       "    <tr>\n",
       "      <td>Cardnum</td>\n",
       "      <td>0</td>\n",
       "      <td>0</td>\n",
       "    </tr>\n",
       "    <tr>\n",
       "      <td>Date</td>\n",
       "      <td>0</td>\n",
       "      <td>0</td>\n",
       "    </tr>\n",
       "    <tr>\n",
       "      <td>Merchnum</td>\n",
       "      <td>3198</td>\n",
       "      <td>53</td>\n",
       "    </tr>\n",
       "    <tr>\n",
       "      <td>Merch description</td>\n",
       "      <td>0</td>\n",
       "      <td>0</td>\n",
       "    </tr>\n",
       "    <tr>\n",
       "      <td>Merch state</td>\n",
       "      <td>1020</td>\n",
       "      <td>0</td>\n",
       "    </tr>\n",
       "    <tr>\n",
       "      <td>Merch zip</td>\n",
       "      <td>4300</td>\n",
       "      <td>0</td>\n",
       "    </tr>\n",
       "    <tr>\n",
       "      <td>Transtype</td>\n",
       "      <td>0</td>\n",
       "      <td>0</td>\n",
       "    </tr>\n",
       "    <tr>\n",
       "      <td>Amount</td>\n",
       "      <td>0</td>\n",
       "      <td>0</td>\n",
       "    </tr>\n",
       "    <tr>\n",
       "      <td>Fraud</td>\n",
       "      <td>0</td>\n",
       "      <td>95338</td>\n",
       "    </tr>\n",
       "    <tr>\n",
       "      <td>Dow</td>\n",
       "      <td>0</td>\n",
       "      <td>0</td>\n",
       "    </tr>\n",
       "    <tr>\n",
       "      <td>Dow_Risk</td>\n",
       "      <td>0</td>\n",
       "      <td>0</td>\n",
       "    </tr>\n",
       "  </tbody>\n",
       "</table>\n",
       "</div>"
      ],
      "text/plain": [
       "                   # of null  # of zeros\n",
       "Recnum                     0           0\n",
       "Cardnum                    0           0\n",
       "Date                       0           0\n",
       "Merchnum                3198          53\n",
       "Merch description          0           0\n",
       "Merch state             1020           0\n",
       "Merch zip               4300           0\n",
       "Transtype                  0           0\n",
       "Amount                     0           0\n",
       "Fraud                      0       95338\n",
       "Dow                        0           0\n",
       "Dow_Risk                   0           0"
      ]
     },
     "execution_count": 17,
     "metadata": {},
     "output_type": "execute_result"
    }
   ],
   "source": [
    "pd.DataFrame(dict(zip(['# of null', '# of zeros'], [df.isna().sum(), ((df == 0) | (df == '0')).sum()])))"
   ]
  },
  {
   "cell_type": "markdown",
   "metadata": {},
   "source": [
    "### 3.1 Merchnum"
   ]
  },
  {
   "cell_type": "markdown",
   "metadata": {},
   "source": [
    "This is hard for us to fill in since we aren't able to determine how they were designed. So I treat them as frivolous and replace them with record number."
   ]
  },
  {
   "cell_type": "code",
   "execution_count": 18,
   "metadata": {},
   "outputs": [],
   "source": [
    "df.loc[(df.Merchnum.isna()) | (df.Merchnum == '0'), 'Merchnum'] \\\n",
    "                = df.loc[(df.Merchnum.isna()) | (df.Merchnum == '0'), 'Recnum']"
   ]
  },
  {
   "cell_type": "code",
   "execution_count": 19,
   "metadata": {},
   "outputs": [],
   "source": [
    "df.Merchnum = df.Merchnum.astype(str)"
   ]
  },
  {
   "cell_type": "markdown",
   "metadata": {},
   "source": [
    "### 3.2 State & Zip"
   ]
  },
  {
   "cell_type": "markdown",
   "metadata": {},
   "source": [
    "After some exploration, I found that for some records that miss state, or zip, or both, the associated merch desciption have such information in the dataset somewhere. So I would try to replace them with the most frequent. If there is no info, I will leave them as NaN."
   ]
  },
  {
   "cell_type": "markdown",
   "metadata": {},
   "source": [
    "**Important:** In real world practice, I should take validation set out and work on train/test set only."
   ]
  },
  {
   "cell_type": "code",
   "execution_count": 20,
   "metadata": {},
   "outputs": [],
   "source": [
    "df['Merch zip'] = df['Merch zip'].astype('Int64')"
   ]
  },
  {
   "cell_type": "code",
   "execution_count": 21,
   "metadata": {},
   "outputs": [],
   "source": [
    "new = df.copy()"
   ]
  },
  {
   "cell_type": "code",
   "execution_count": 22,
   "metadata": {},
   "outputs": [],
   "source": [
    "## value_counts() will not count NaN\n",
    "\n",
    "def inital_fill(x):\n",
    "    \n",
    "    mer = x[0]\n",
    "    state = x[1]\n",
    "    zipcode = x[2]\n",
    "    \n",
    "    na = pd.isnull(state) + pd.isnull(zipcode)\n",
    "    \n",
    "    if na == 2:\n",
    "        temp = df[df['Merch description'] == mer]\n",
    "        states = temp['Merch state'].value_counts()\n",
    "        zips = temp['Merch zip'].value_counts()\n",
    "        try:\n",
    "            mf_state = states.idxmax()\n",
    "        except:\n",
    "            mf_state = state\n",
    "        try:\n",
    "            mf_zip = zips.idxmax()\n",
    "        except:\n",
    "            mf_zip = zipcode\n",
    "        return [mf_state, mf_zip]\n",
    "    \n",
    "    elif pd.isnull(state):\n",
    "        temp = df[df['Merch description'] == mer]\n",
    "        states = temp['Merch state'].value_counts()\n",
    "        try:\n",
    "            mf_state = states.idxmax()\n",
    "        except:\n",
    "            mf_state = state\n",
    "        return [mf_state, zipcode]\n",
    "\n",
    "    elif pd.isnull(zipcode):\n",
    "        temp = df[df['Merch description'] == mer]\n",
    "        zips = temp['Merch zip'].value_counts()\n",
    "        try:\n",
    "            mf_zip = zips.idxmax()\n",
    "        except:\n",
    "            mf_zip = zipcode\n",
    "        return [state, mf_zip]\n",
    "    \n",
    "    else:\n",
    "        return [state, zipcode]"
   ]
  },
  {
   "cell_type": "code",
   "execution_count": 23,
   "metadata": {},
   "outputs": [],
   "source": [
    "new[['Merch state', 'Merch zip']] = new[['Merch description', 'Merch state', 'Merch zip']]\\\n",
    "                                    .apply(lambda x: pd.Series(inital_fill(x)), axis = 1)                             "
   ]
  },
  {
   "cell_type": "code",
   "execution_count": 24,
   "metadata": {},
   "outputs": [
    {
     "data": {
      "text/plain": [
       "(363, 2043)"
      ]
     },
     "execution_count": 24,
     "metadata": {},
     "output_type": "execute_result"
    }
   ],
   "source": [
    "new['Merch state'].isna().sum(), new['Merch zip'].isna().sum()"
   ]
  },
  {
   "cell_type": "markdown",
   "metadata": {},
   "source": [
    "Now, for the remaining missing records (that miss in state or zip or both), we could not find information using their merchant description in the dataset.\n",
    "\n",
    "For those not missing both, I found a nice library called **uszipcode**, which could return zip given state, and ves versa. Note, there are 1 or 2 or 3 digit zipcodes, and are also some zipcodes that dont't seem to be valid. Also, there are states that don't seem to be valid. I will exclude them in the following function and deal with them later.\n",
    "\n",
    "The documentary page of the library is here: https://pypi.org/project/uszipcode/"
   ]
  },
  {
   "cell_type": "code",
   "execution_count": 25,
   "metadata": {},
   "outputs": [
    {
     "data": {
      "text/plain": [
       "array(['NY', 'GA', 'MA', 'OK', 'MD', 'BC', 'KY', 'CA', 'TX', 'QC', 'MO',\n",
       "       'PA', 'ON', 'VA', 'MS', 'IL', 'NC', 'WV', 'FL', 'KS', 'CO', 'MB',\n",
       "       'OR', 'WA', 'CT', 'WI', 'AZ', 'DC', 'IN', 'IA', 'MI', 'NJ', 'PQ',\n",
       "       'MN', 'AL', 'OH', 'RI', 'MT', 'UT', 'NS', 'AK', 'NV', 'AB', 'NM',\n",
       "       'LA', 'ID', 'ND', 'NE'], dtype=object)"
      ]
     },
     "execution_count": 25,
     "metadata": {},
     "output_type": "execute_result"
    }
   ],
   "source": [
    "## there are some states that are not valid us states...\n",
    "\n",
    "new[~(new['Merch state'].isna()) & (new['Merch zip'].isna())]['Merch state'].unique()"
   ]
  },
  {
   "cell_type": "code",
   "execution_count": 26,
   "metadata": {},
   "outputs": [],
   "source": [
    "## I use webscrapping to create a list of valid US abbrv.\n",
    "\n",
    "from bs4 import BeautifulSoup\n",
    "from urllib.request import urlopen"
   ]
  },
  {
   "cell_type": "code",
   "execution_count": 27,
   "metadata": {},
   "outputs": [],
   "source": [
    "html = urlopen(\"https://en.wikipedia.org/wiki/List_of_U.S._state_abbreviations\")\n",
    "soup = BeautifulSoup(html)"
   ]
  },
  {
   "cell_type": "code",
   "execution_count": 28,
   "metadata": {},
   "outputs": [],
   "source": [
    "table = soup.find(\"table\", {'class':'wikitable sortable'})"
   ]
  },
  {
   "cell_type": "code",
   "execution_count": 29,
   "metadata": {},
   "outputs": [],
   "source": [
    "names = table.find_all(\"span\", {'class': 'monospaced'})\n",
    "names = names[1:-15]"
   ]
  },
  {
   "cell_type": "code",
   "execution_count": 30,
   "metadata": {},
   "outputs": [],
   "source": [
    "state_list = []\n",
    "for name in names:\n",
    "    name = name.get_text()[-2:]\n",
    "    state_list.append(name)"
   ]
  },
  {
   "cell_type": "code",
   "execution_count": 31,
   "metadata": {},
   "outputs": [],
   "source": [
    "from uszipcode import SearchEngine\n",
    "searcher = SearchEngine()"
   ]
  },
  {
   "cell_type": "code",
   "execution_count": 32,
   "metadata": {},
   "outputs": [],
   "source": [
    "new1 = new.copy()"
   ]
  },
  {
   "cell_type": "code",
   "execution_count": 33,
   "metadata": {},
   "outputs": [],
   "source": [
    "def state_zip_fill(x):\n",
    "    \n",
    "    state = x[0]\n",
    "    zipcode = x[1]\n",
    "    \n",
    "    na = pd.isnull(state) + pd.isnull(zipcode)\n",
    "    \n",
    "    if na == 1:\n",
    "        if pd.isnull(state):\n",
    "            result = searcher.by_zipcode(str(int(zipcode))).state\n",
    "            if result == None:\n",
    "                return [state, zipcode]\n",
    "            else:\n",
    "                return [result, zipcode]\n",
    "        else:\n",
    "            if state not in state_list:\n",
    "                return [state, zipcode]\n",
    "            else:\n",
    "                result = searcher.by_state(state)[0].zipcode\n",
    "                if result == None:\n",
    "                    return [state, zipcode]\n",
    "                else:\n",
    "                    return [state, result]\n",
    "    else:\n",
    "        return [state, zipcode]"
   ]
  },
  {
   "cell_type": "code",
   "execution_count": 34,
   "metadata": {},
   "outputs": [],
   "source": [
    "new1[['Merch state', 'Merch zip']] = new1[['Merch state', 'Merch zip']]\\\n",
    "                                    .apply(lambda x: pd.Series(state_zip_fill(x)), axis = 1) "
   ]
  },
  {
   "cell_type": "code",
   "execution_count": 35,
   "metadata": {},
   "outputs": [
    {
     "data": {
      "text/plain": [
       "(310, 454)"
      ]
     },
     "execution_count": 35,
     "metadata": {},
     "output_type": "execute_result"
    }
   ],
   "source": [
    "new1['Merch state'].isna().sum(), new1['Merch zip'].isna().sum()"
   ]
  },
  {
   "cell_type": "code",
   "execution_count": 36,
   "metadata": {},
   "outputs": [
    {
     "data": {
      "text/plain": [
       "269"
      ]
     },
     "execution_count": 36,
     "metadata": {},
     "output_type": "execute_result"
    }
   ],
   "source": [
    "## There are 270 records that miss both entities information at this point, and there is no valuable information\n",
    "## that we could use in the dataset; one of the approach I came up with is to find the associated cardnum and \n",
    "## replace the null with the most frequent value used by that card\n",
    "## I am NOT 100% sure about this but unless there is better approach I will use this.\n",
    "\n",
    "len(new1[(new1['Merch state'].isna()) & (new1['Merch zip'].isna())])"
   ]
  },
  {
   "cell_type": "code",
   "execution_count": 37,
   "metadata": {},
   "outputs": [
    {
     "data": {
      "text/plain": [
       "array(['BC', 'QC', 'ON', 'MB', 'PQ', 'NS', 'AB'], dtype=object)"
      ]
     },
     "execution_count": 37,
     "metadata": {},
     "output_type": "execute_result"
    }
   ],
   "source": [
    "## I did some research and found that these are likely to be province codes of Canda\n",
    "## I decide to manully set these zipcodes to be the state, since it's likely that when new data come in,\n",
    "## these zip codes would be left as null as well, so just make them state as well.\n",
    "\n",
    "new1[(new1['Merch zip'].isna()) & ~(new1['Merch state'].isna())]['Merch state'].unique()"
   ]
  },
  {
   "cell_type": "code",
   "execution_count": 38,
   "metadata": {},
   "outputs": [
    {
     "data": {
      "text/plain": [
       "array([1400.0, 65132.0, 86899.0, 23080.0, 60528.0, 6.0, 8.0, 9.0, 50823.0,\n",
       "       2.0, 48700.0, 1.0, 3.0, 801.0], dtype=object)"
      ]
     },
     "execution_count": 38,
     "metadata": {},
     "output_type": "execute_result"
    }
   ],
   "source": [
    "new1[~(new1['Merch zip'].isna()) & (new1['Merch state'].isna())]['Merch zip'].unique()"
   ]
  },
  {
   "cell_type": "code",
   "execution_count": 39,
   "metadata": {},
   "outputs": [],
   "source": [
    "new2 = new1.copy()"
   ]
  },
  {
   "cell_type": "code",
   "execution_count": 40,
   "metadata": {},
   "outputs": [],
   "source": [
    "## for the state above, I will first try to find records associated with them in the whole dataset\n",
    "## if there is any, I will replace with the most frequent\n",
    "## note, this time the granularity is different, records are not sorted by merchant descrip but by state\n",
    "\n",
    "def zip_fill(x):\n",
    "    \n",
    "    state = x[0]\n",
    "    zipcode = x[1]\n",
    "    \n",
    "    na = pd.isnull(state) + pd.isnull(zipcode)\n",
    "    \n",
    "    if na == 1 and pd.isnull(zipcode):\n",
    "        temp = new2[new2['Merch state'] == state]\n",
    "        zips = temp['Merch zip'].value_counts()\n",
    "        try:\n",
    "            mf_zip = zips.idxmax()\n",
    "            return [state, mf_zip]\n",
    "        except:\n",
    "            return [state, state]\n",
    "    else:\n",
    "        return [state, zipcode]"
   ]
  },
  {
   "cell_type": "code",
   "execution_count": 41,
   "metadata": {},
   "outputs": [],
   "source": [
    "new2[['Merch state', 'Merch zip']] = new2[['Merch state', 'Merch zip']]\\\n",
    "                                    .apply(lambda x: pd.Series(zip_fill(x)), axis = 1) "
   ]
  },
  {
   "cell_type": "code",
   "execution_count": 42,
   "metadata": {},
   "outputs": [],
   "source": [
    "## Similarly, I will first try to find records associated with the zip codes in the whole dataset\n",
    "## if there is any, I will replace with the most frequent\n",
    "## else, I will manually assign the state as string zipcode\n",
    "\n",
    "def state_fill(x):\n",
    "    \n",
    "    state = x[0]\n",
    "    zipcode = x[1]\n",
    "    \n",
    "    na = pd.isnull(state) + pd.isnull(zipcode)\n",
    "    \n",
    "    if na == 1 and pd.isnull(state):\n",
    "        temp = new2[new2['Merch zip'] == zipcode]\n",
    "        states = temp['Merch state'].value_counts()\n",
    "        try:\n",
    "            mf_state = states.idxmax()\n",
    "            return [mf_state, zipcode]\n",
    "        except:\n",
    "            return [str(int(zipcode)), zipcode]\n",
    "    else:\n",
    "        return [state, zipcode]"
   ]
  },
  {
   "cell_type": "code",
   "execution_count": 43,
   "metadata": {},
   "outputs": [],
   "source": [
    "new2[['Merch state', 'Merch zip']] = new2[['Merch state', 'Merch zip']]\\\n",
    "                                    .apply(lambda x: pd.Series(state_fill(x)), axis = 1) "
   ]
  },
  {
   "cell_type": "code",
   "execution_count": 44,
   "metadata": {},
   "outputs": [
    {
     "data": {
      "text/plain": [
       "(269, 269, 269)"
      ]
     },
     "execution_count": 44,
     "metadata": {},
     "output_type": "execute_result"
    }
   ],
   "source": [
    "## if the above approach went successful, the following 3 numbers should all = 270\n",
    "## which is the final remaining number of records that\n",
    "##   1. their merchant descriptioon provide no information on state and zip in the whole dataset\n",
    "##   2. they miss both state and zip code\n",
    "\n",
    "len(new2[(new2['Merch state'].isna())]), len(new2[new2['Merch zip'].isna()]),\\\n",
    "                            len(new2[(new2['Merch state'].isna()) & (new2['Merch zip'].isna())])"
   ]
  },
  {
   "cell_type": "code",
   "execution_count": 45,
   "metadata": {},
   "outputs": [],
   "source": [
    "## after checking with professor, the approach i will use is to find the associated cardnum and \n",
    "## replace the null with the most frequent value used by that card\n",
    "\n",
    "new3 = new2.copy()"
   ]
  },
  {
   "cell_type": "code",
   "execution_count": 46,
   "metadata": {},
   "outputs": [],
   "source": [
    "## if the cardnum group even don't have at least one non-null values, I have no choice but to set them as\n",
    "## the most frequent of the whole dataset\n",
    "\n",
    "def final_fill(x):\n",
    "    \n",
    "    temp = new3[new3.Cardnum == x]\n",
    "    try:\n",
    "        mf_state = temp['Merch state'].value_counts().idxmax()\n",
    "    except:\n",
    "        mf_state = new3['Merch state'].value_counts().idxmax()\n",
    "    try:\n",
    "        mf_zip = temp['Merch zip'].value_counts().idxmax()\n",
    "    except:\n",
    "        mf_zip = new3['Merch zip'].value_counts().idxmax()\n",
    "        \n",
    "    return pd.Series([mf_state, mf_zip])"
   ]
  },
  {
   "cell_type": "code",
   "execution_count": 47,
   "metadata": {},
   "outputs": [],
   "source": [
    "nulls_df = new3[(new3['Merch state'].isna()) & (new3['Merch zip'].isna())]\n",
    "\n",
    "null_merchs = nulls_df['Merch description'].unique()\n",
    "\n",
    "for merch in null_merchs:\n",
    "    \n",
    "    temp = new3.loc[new3['Merch description'] == merch, 'Cardnum']\n",
    "    result = temp.apply(final_fill).values\n",
    "    new3.loc[new3['Merch description'] == merch, ['Merch state', 'Merch zip']] = result"
   ]
  },
  {
   "cell_type": "code",
   "execution_count": 48,
   "metadata": {
    "scrolled": false
   },
   "outputs": [
    {
     "name": "stderr",
     "output_type": "stream",
     "text": [
      "/Users/aslanshi/opt/anaconda3/lib/python3.7/site-packages/pandas/core/ops/__init__.py:1115: FutureWarning: elementwise comparison failed; returning scalar instead, but in the future will perform elementwise comparison\n",
      "  result = method(y)\n"
     ]
    },
    {
     "data": {
      "text/html": [
       "<div>\n",
       "<style scoped>\n",
       "    .dataframe tbody tr th:only-of-type {\n",
       "        vertical-align: middle;\n",
       "    }\n",
       "\n",
       "    .dataframe tbody tr th {\n",
       "        vertical-align: top;\n",
       "    }\n",
       "\n",
       "    .dataframe thead th {\n",
       "        text-align: right;\n",
       "    }\n",
       "</style>\n",
       "<table border=\"1\" class=\"dataframe\">\n",
       "  <thead>\n",
       "    <tr style=\"text-align: right;\">\n",
       "      <th></th>\n",
       "      <th># of null</th>\n",
       "      <th># of zeros</th>\n",
       "    </tr>\n",
       "  </thead>\n",
       "  <tbody>\n",
       "    <tr>\n",
       "      <td>Recnum</td>\n",
       "      <td>0</td>\n",
       "      <td>0</td>\n",
       "    </tr>\n",
       "    <tr>\n",
       "      <td>Cardnum</td>\n",
       "      <td>0</td>\n",
       "      <td>0</td>\n",
       "    </tr>\n",
       "    <tr>\n",
       "      <td>Date</td>\n",
       "      <td>0</td>\n",
       "      <td>0</td>\n",
       "    </tr>\n",
       "    <tr>\n",
       "      <td>Merchnum</td>\n",
       "      <td>0</td>\n",
       "      <td>0</td>\n",
       "    </tr>\n",
       "    <tr>\n",
       "      <td>Merch description</td>\n",
       "      <td>0</td>\n",
       "      <td>0</td>\n",
       "    </tr>\n",
       "    <tr>\n",
       "      <td>Merch state</td>\n",
       "      <td>0</td>\n",
       "      <td>0</td>\n",
       "    </tr>\n",
       "    <tr>\n",
       "      <td>Merch zip</td>\n",
       "      <td>0</td>\n",
       "      <td>0</td>\n",
       "    </tr>\n",
       "    <tr>\n",
       "      <td>Transtype</td>\n",
       "      <td>0</td>\n",
       "      <td>0</td>\n",
       "    </tr>\n",
       "    <tr>\n",
       "      <td>Amount</td>\n",
       "      <td>0</td>\n",
       "      <td>0</td>\n",
       "    </tr>\n",
       "    <tr>\n",
       "      <td>Fraud</td>\n",
       "      <td>0</td>\n",
       "      <td>95338</td>\n",
       "    </tr>\n",
       "    <tr>\n",
       "      <td>Dow</td>\n",
       "      <td>0</td>\n",
       "      <td>0</td>\n",
       "    </tr>\n",
       "    <tr>\n",
       "      <td>Dow_Risk</td>\n",
       "      <td>0</td>\n",
       "      <td>0</td>\n",
       "    </tr>\n",
       "  </tbody>\n",
       "</table>\n",
       "</div>"
      ],
      "text/plain": [
       "                   # of null  # of zeros\n",
       "Recnum                     0           0\n",
       "Cardnum                    0           0\n",
       "Date                       0           0\n",
       "Merchnum                   0           0\n",
       "Merch description          0           0\n",
       "Merch state                0           0\n",
       "Merch zip                  0           0\n",
       "Transtype                  0           0\n",
       "Amount                     0           0\n",
       "Fraud                      0       95338\n",
       "Dow                        0           0\n",
       "Dow_Risk                   0           0"
      ]
     },
     "execution_count": 48,
     "metadata": {},
     "output_type": "execute_result"
    }
   ],
   "source": [
    "## Finally.....\n",
    "\n",
    "pd.DataFrame(dict(zip(['# of null', '# of zeros'], [new3.isna().sum(), ((new3 == 0) | (new3 == '0')).sum()])))"
   ]
  },
  {
   "cell_type": "code",
   "execution_count": 49,
   "metadata": {
    "scrolled": true
   },
   "outputs": [
    {
     "data": {
      "text/plain": [
       "(96397, 12)"
      ]
     },
     "execution_count": 49,
     "metadata": {},
     "output_type": "execute_result"
    }
   ],
   "source": [
    "new3.shape"
   ]
  },
  {
   "cell_type": "code",
   "execution_count": 50,
   "metadata": {},
   "outputs": [],
   "source": [
    "new3.to_csv('cleaned_data.csv')"
   ]
  },
  {
   "cell_type": "code",
   "execution_count": 51,
   "metadata": {},
   "outputs": [
    {
     "name": "stdout",
     "output_type": "stream",
     "text": [
      "Duration:  0:02:08.503877\n"
     ]
    }
   ],
   "source": [
    "print('Duration: ', pd.datetime.now() - start_time)"
   ]
  },
  {
   "cell_type": "code",
   "execution_count": 65,
   "metadata": {},
   "outputs": [
    {
     "data": {
      "text/html": [
       "<div>\n",
       "<style scoped>\n",
       "    .dataframe tbody tr th:only-of-type {\n",
       "        vertical-align: middle;\n",
       "    }\n",
       "\n",
       "    .dataframe tbody tr th {\n",
       "        vertical-align: top;\n",
       "    }\n",
       "\n",
       "    .dataframe thead th {\n",
       "        text-align: right;\n",
       "    }\n",
       "</style>\n",
       "<table border=\"1\" class=\"dataframe\">\n",
       "  <thead>\n",
       "    <tr style=\"text-align: right;\">\n",
       "      <th></th>\n",
       "      <th>Recnum</th>\n",
       "      <th>Cardnum</th>\n",
       "      <th>Date</th>\n",
       "      <th>Merchnum</th>\n",
       "      <th>Merch description</th>\n",
       "      <th>Merch state</th>\n",
       "      <th>Merch zip</th>\n",
       "      <th>Transtype</th>\n",
       "      <th>Amount</th>\n",
       "      <th>Fraud</th>\n",
       "      <th>Dow</th>\n",
       "      <th>Dow_Risk</th>\n",
       "    </tr>\n",
       "  </thead>\n",
       "  <tbody>\n",
       "    <tr>\n",
       "      <td>44963</td>\n",
       "      <td>44964</td>\n",
       "      <td>5142117641</td>\n",
       "      <td>2010-06-15</td>\n",
       "      <td>44964</td>\n",
       "      <td>AGRICULTURE FOOD &amp; RUR</td>\n",
       "      <td>AB</td>\n",
       "      <td>AB</td>\n",
       "      <td>P</td>\n",
       "      <td>37.00</td>\n",
       "      <td>0</td>\n",
       "      <td>Tuesday</td>\n",
       "      <td>0.007964</td>\n",
       "    </tr>\n",
       "    <tr>\n",
       "      <td>50776</td>\n",
       "      <td>50777</td>\n",
       "      <td>5142291592</td>\n",
       "      <td>2010-07-06</td>\n",
       "      <td>50777</td>\n",
       "      <td>SEQUITER SOFTWARE INC</td>\n",
       "      <td>AB</td>\n",
       "      <td>AB</td>\n",
       "      <td>P</td>\n",
       "      <td>752.83</td>\n",
       "      <td>0</td>\n",
       "      <td>Tuesday</td>\n",
       "      <td>0.007964</td>\n",
       "    </tr>\n",
       "    <tr>\n",
       "      <td>80132</td>\n",
       "      <td>80133</td>\n",
       "      <td>5142251947</td>\n",
       "      <td>2010-10-06</td>\n",
       "      <td>80133</td>\n",
       "      <td>TROUT UNLIMITED CANADA</td>\n",
       "      <td>AB</td>\n",
       "      <td>AB</td>\n",
       "      <td>P</td>\n",
       "      <td>225.00</td>\n",
       "      <td>0</td>\n",
       "      <td>Wednesday</td>\n",
       "      <td>0.009530</td>\n",
       "    </tr>\n",
       "    <tr>\n",
       "      <td>83155</td>\n",
       "      <td>83156</td>\n",
       "      <td>5142254784</td>\n",
       "      <td>2010-10-25</td>\n",
       "      <td>83156</td>\n",
       "      <td>ENVIRONMENTAL SERVICES AS</td>\n",
       "      <td>AB</td>\n",
       "      <td>AB</td>\n",
       "      <td>P</td>\n",
       "      <td>527.00</td>\n",
       "      <td>0</td>\n",
       "      <td>Monday</td>\n",
       "      <td>0.008749</td>\n",
       "    </tr>\n",
       "    <tr>\n",
       "      <td>89916</td>\n",
       "      <td>89917</td>\n",
       "      <td>5142111372</td>\n",
       "      <td>2010-11-30</td>\n",
       "      <td>89917</td>\n",
       "      <td>COMMUNICATION SYSTEMS</td>\n",
       "      <td>AB</td>\n",
       "      <td>AB</td>\n",
       "      <td>P</td>\n",
       "      <td>48.58</td>\n",
       "      <td>0</td>\n",
       "      <td>Tuesday</td>\n",
       "      <td>0.007964</td>\n",
       "    </tr>\n",
       "  </tbody>\n",
       "</table>\n",
       "</div>"
      ],
      "text/plain": [
       "       Recnum     Cardnum       Date Merchnum          Merch description  \\\n",
       "44963   44964  5142117641 2010-06-15    44964     AGRICULTURE FOOD & RUR   \n",
       "50776   50777  5142291592 2010-07-06    50777      SEQUITER SOFTWARE INC   \n",
       "80132   80133  5142251947 2010-10-06    80133     TROUT UNLIMITED CANADA   \n",
       "83155   83156  5142254784 2010-10-25    83156  ENVIRONMENTAL SERVICES AS   \n",
       "89916   89917  5142111372 2010-11-30    89917      COMMUNICATION SYSTEMS   \n",
       "\n",
       "      Merch state Merch zip Transtype  Amount  Fraud        Dow  Dow_Risk  \n",
       "44963          AB        AB         P   37.00      0    Tuesday  0.007964  \n",
       "50776          AB        AB         P  752.83      0    Tuesday  0.007964  \n",
       "80132          AB        AB         P  225.00      0  Wednesday  0.009530  \n",
       "83155          AB        AB         P  527.00      0     Monday  0.008749  \n",
       "89916          AB        AB         P   48.58      0    Tuesday  0.007964  "
      ]
     },
     "execution_count": 65,
     "metadata": {},
     "output_type": "execute_result"
    }
   ],
   "source": [
    "new3[new3['Merch zip']=='AB']"
   ]
  },
  {
   "cell_type": "code",
   "execution_count": null,
   "metadata": {},
   "outputs": [],
   "source": []
  }
 ],
 "metadata": {
  "kernelspec": {
   "display_name": "Python 3",
   "language": "python",
   "name": "python3"
  },
  "language_info": {
   "codemirror_mode": {
    "name": "ipython",
    "version": 3
   },
   "file_extension": ".py",
   "mimetype": "text/x-python",
   "name": "python",
   "nbconvert_exporter": "python",
   "pygments_lexer": "ipython3",
   "version": "3.7.4"
  }
 },
 "nbformat": 4,
 "nbformat_minor": 2
}
